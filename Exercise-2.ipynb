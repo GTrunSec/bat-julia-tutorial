{
 "cells": [
  {
   "cell_type": "markdown",
   "metadata": {},
   "source": [
    "# BAT.jl: Background + Signal Analysis "
   ]
  },
  {
   "cell_type": "code",
   "execution_count": null,
   "metadata": {},
   "outputs": [],
   "source": [
    "using Random, LinearAlgebra, Statistics, Distributions, StatsBase\n",
    "using EponymTuples\n",
    "using BAT, IntervalSets\n",
    "using ValueShapes\n",
    "using Plots\n",
    "pyplot()"
   ]
  },
  {
   "cell_type": "markdown",
   "metadata": {},
   "source": [
    "## Generate data:"
   ]
  },
  {
   "cell_type": "code",
   "execution_count": null,
   "metadata": {},
   "outputs": [],
   "source": [
    "bins=0:0.5:30\n",
    "N_background = 1500\n",
    "λ = 10\n",
    "\n",
    "data_background = rand(Truncated(Exponential(λ), 0, 30), 1500)\n",
    "hist_background = append!(Histogram(bins), data_background);"
   ]
  },
  {
   "cell_type": "code",
   "execution_count": null,
   "metadata": {},
   "outputs": [],
   "source": [
    "N_signal = 100\n",
    "N_s_background = 1400\n",
    "μ_true = 15.0\n",
    "σ_true = 0.7\n",
    "\n",
    "data_signal =  vcat(\n",
    "    rand(Truncated(Exponential(λ), 0, 30), N_s_background),\n",
    "    rand(Normal( μ_true, σ_true), N_signal)\n",
    ")\n",
    "\n",
    "hist_signal = append!(Histogram(bins), data_signal);"
   ]
  },
  {
   "cell_type": "code",
   "execution_count": null,
   "metadata": {},
   "outputs": [],
   "source": [
    "plot(normalize(hist_signal, mode=:density), alpha=0.5, color=:red, label=\"Signal Data\")\n",
    "plot!(normalize(hist_background, mode=:density),  seriestype = :steps, lw=2.5, alpha=0.9, color=:black, label=\"Background Data\")\n",
    "plot!(xlabel = \"x\", ylabel=\"P(x)\", title=\"Data for Analysis\")\n"
   ]
  },
  {
   "cell_type": "markdown",
   "metadata": {},
   "source": [
    "## Define model functions: "
   ]
  },
  {
   "cell_type": "code",
   "execution_count": null,
   "metadata": {},
   "outputs": [],
   "source": [
    "function background_model_1(@eponymargs(A), x::Real)\n",
    "    A[1] + A[2]*x + A[3]*x^2\n",
    "end\n",
    "\n",
    "function background_model_2(@eponymargs(A), x::Real)\n",
    "    A[1] + (1/A[2])*exp(-x/A[3])\n",
    "end\n",
    "\n",
    "function background_signal_model(@eponymargs(A, D, x_0, G), x::Real)\n",
    "    A[1] + (1/A[2])*exp(-x/A[3]) + D[1]/((x - x_0[1])^2+G[1]^2)\n",
    "end"
   ]
  },
  {
   "cell_type": "markdown",
   "metadata": {},
   "source": [
    "## Define likelihood function with Poisson noise: "
   ]
  },
  {
   "cell_type": "code",
   "execution_count": null,
   "metadata": {},
   "outputs": [],
   "source": [
    "struct HistogramLikelihood{H<:Histogram,F<:Function} <: AbstractDensity\n",
    "    histogram::H\n",
    "    fitfunc::F\n",
    "end"
   ]
  },
  {
   "cell_type": "code",
   "execution_count": null,
   "metadata": {},
   "outputs": [],
   "source": [
    "function BAT.density_logval(\n",
    "    likelihood::HistogramLikelihood,\n",
    "    params::Union{NamedTuple,AbstractVector{<:Real}}\n",
    ")\n",
    "    # Histogram counts for each bin as an array:\n",
    "    counts = likelihood.histogram.weights\n",
    "\n",
    "    # Histogram binning, has length (length(counts) + 1):\n",
    "    binning = likelihood.histogram.edges[1]\n",
    "    \n",
    "    log_likelihood::Float64 = 0.0\n",
    "    for i in eachindex(counts)\n",
    "        bin_left, bin_right = binning[i], binning[i+1]\n",
    "        bin_width = bin_right - bin_left\n",
    "        bin_center = (bin_right + bin_left) / 2\n",
    "        observed_counts = counts[i]\n",
    "        expected_counts = bin_width * likelihood.fitfunc(params, bin_center)\n",
    "        if expected_counts > 0 \n",
    "            log_likelihood += logpdf(Poisson(expected_counts), observed_counts)\n",
    "        else\n",
    "           log_likelihood += -Inf\n",
    "        end \n",
    "    end\n",
    "\n",
    "    return log_likelihood\n",
    "end"
   ]
  },
  {
   "cell_type": "code",
   "execution_count": null,
   "metadata": {},
   "outputs": [],
   "source": [
    "algorithm = MetropolisHastings(MvTDistProposalSpec(1.0))\n",
    "rngseed = BAT.Philox4xSeed()\n",
    "nsamples = 5*10^5\n",
    "max_nsteps = 5*10^5\n",
    "nchains = 8\n",
    "\n",
    "tuner_config = ProposalCovTunerConfig(\n",
    "    λ = 0.5,\n",
    "    α = 0.15..0.35,\n",
    "    β = 1.5,\n",
    "    c = 1e-4..1e2\n",
    ")\n",
    "\n",
    "convergence_test = BGConvergence(\n",
    "    threshold = 1.1,\n",
    "    corrected = false\n",
    ")\n",
    "\n",
    "init_strategy = MCMCInitStrategy(\n",
    "    ninit_tries_per_chain = 8..128,\n",
    "    max_nsamples_pretune = 25,\n",
    "    max_nsteps_pretune = 250,\n",
    "    max_time_pretune = Inf\n",
    ")\n",
    "\n",
    "burnin_strategy = MCMCBurninStrategy(\n",
    "    max_nsamples_per_cycle = 10000,\n",
    "    max_nsteps_per_cycle = 20000,\n",
    "    max_time_per_cycle = Inf,\n",
    "    max_ncycles = 100\n",
    ");\n",
    "\n",
    "ENV[\"JULIA_INFO\"] = \"BAT\""
   ]
  },
  {
   "cell_type": "markdown",
   "metadata": {},
   "source": [
    "## Background model #1:  "
   ]
  },
  {
   "cell_type": "code",
   "execution_count": null,
   "metadata": {},
   "outputs": [],
   "source": [
    "likelihood_bm1 = HistogramLikelihood(hist_background, background_model_1);"
   ]
  },
  {
   "cell_type": "code",
   "execution_count": null,
   "metadata": {},
   "outputs": [],
   "source": [
    "prior_bm1 = NamedPrior(\n",
    "    A = [-1000.0 .. 1000.0, -1000.0 .. 1000.0, -1000.0 .. 1000.0],\n",
    ");"
   ]
  },
  {
   "cell_type": "code",
   "execution_count": null,
   "metadata": {},
   "outputs": [],
   "source": [
    "parshapes_bm1 = VarShapes(prior_bm1)\n",
    "posterior_bm1 = PosteriorDensity(likelihood_bm1, prior_bm1);\n",
    "chainspec_bm1 = MCMCSpec(algorithm, posterior_bm1, rngseed);"
   ]
  },
  {
   "cell_type": "code",
   "execution_count": null,
   "metadata": {},
   "outputs": [],
   "source": [
    "samples_bm1, sampleids_bm1, stats_bm1, chains_bm1 = rand(\n",
    "    chainspec_bm1,\n",
    "    nsamples,\n",
    "    nchains,\n",
    "    tuner_config = tuner_config,\n",
    "    convergence_test = convergence_test,\n",
    "    init_strategy = init_strategy,\n",
    "    burnin_strategy = burnin_strategy,\n",
    "    max_nsteps = max_nsteps,\n",
    "    max_time = Inf,\n",
    "    granularity = 1\n",
    ");"
   ]
  },
  {
   "cell_type": "code",
   "execution_count": null,
   "metadata": {},
   "outputs": [],
   "source": [
    "println(\"Mode: $(stats_bm1.mode)\")\n",
    "println(\"Mean: $(stats_bm1.param_stats.mean)\")\n",
    "println(\"Covariance: $(stats_bm1.param_stats.cov)\")"
   ]
  },
  {
   "cell_type": "code",
   "execution_count": null,
   "metadata": {},
   "outputs": [],
   "source": [
    "mode_parms_bm1 = parshapes_bm1(stats_bm1.mode)"
   ]
  },
  {
   "cell_type": "code",
   "execution_count": null,
   "metadata": {},
   "outputs": [],
   "source": [
    "plot(samples_bm1)"
   ]
  },
  {
   "cell_type": "code",
   "execution_count": null,
   "metadata": {},
   "outputs": [],
   "source": [
    "plot(normalize(hist_background, mode=:density),  seriestype = :steps, lw=2.5, alpha=0.9, color=:black, label=\"Background Data\")\n",
    "plot!(xlabel = \"x\", ylabel=\"P(x)\", title=\"Background Analysis\")\n",
    "\n",
    "plot!(\n",
    "    bins, x -> background_model_1(mode_parms_bm1, x),\n",
    "    label = \"Background Model 1\", lw=1.5, color=2\n",
    ")\n"
   ]
  },
  {
   "cell_type": "code",
   "execution_count": null,
   "metadata": {},
   "outputs": [],
   "source": [
    "data_bm1 = HMIData(samples_bm1)\n",
    "        \n",
    "hm_integrate!(data_bm1)"
   ]
  },
  {
   "cell_type": "markdown",
   "metadata": {},
   "source": [
    "## Background model #2:  "
   ]
  },
  {
   "cell_type": "code",
   "execution_count": null,
   "metadata": {},
   "outputs": [],
   "source": [
    "likelihood_bm2 = HistogramLikelihood(hist_background, background_model_2)"
   ]
  },
  {
   "cell_type": "code",
   "execution_count": null,
   "metadata": {},
   "outputs": [],
   "source": [
    "prior_bm2 = NamedPrior(\n",
    "    A = [-25.0 .. 10.0, -1.0 .. 1.0, 0.0 .. 20.0],\n",
    ");\n"
   ]
  },
  {
   "cell_type": "code",
   "execution_count": null,
   "metadata": {},
   "outputs": [],
   "source": [
    "parshapes_bm2 = VarShapes(prior_bm2)\n",
    "posterior_bm2 = PosteriorDensity(likelihood_bm2, prior_bm2)\n",
    "chainspec_bm2 = MCMCSpec(algorithm, posterior_bm2, rngseed);"
   ]
  },
  {
   "cell_type": "code",
   "execution_count": null,
   "metadata": {},
   "outputs": [],
   "source": [
    "samples_bm2, sampleids_bm2, stats_bm2, chains_bm2 = rand(\n",
    "    chainspec_bm2,\n",
    "    nsamples,\n",
    "    nchains,\n",
    "    tuner_config = tuner_config,\n",
    "    convergence_test = convergence_test,\n",
    "    init_strategy = init_strategy,\n",
    "    burnin_strategy = burnin_strategy,\n",
    "    max_nsteps = max_nsteps,\n",
    "    max_time = Inf,\n",
    "    granularity = 1\n",
    ");"
   ]
  },
  {
   "cell_type": "code",
   "execution_count": null,
   "metadata": {},
   "outputs": [],
   "source": [
    "println(\"Mode: $(stats_bm2.mode)\")\n",
    "println(\"Mean: $(stats_bm2.param_stats.mean)\")\n",
    "println(\"Covariance: $(stats_bm2.param_stats.cov)\")"
   ]
  },
  {
   "cell_type": "code",
   "execution_count": null,
   "metadata": {},
   "outputs": [],
   "source": [
    "mode_parms_bm2 = parshapes_bm2(stats_bm2.mode)"
   ]
  },
  {
   "cell_type": "code",
   "execution_count": null,
   "metadata": {},
   "outputs": [],
   "source": [
    "plot(samples_bm2, params=[1,2,3])"
   ]
  },
  {
   "cell_type": "code",
   "execution_count": null,
   "metadata": {},
   "outputs": [],
   "source": [
    "plot(normalize(hist_background, mode=:density),  seriestype = :steps, lw=2.5, alpha=0.9, color=:black, label=\"Background Data\")\n",
    "plot!(xlabel = \"x\", ylabel=\"P(x)\", title=\"Background Analysis\")\n",
    "\n",
    "plot!(\n",
    "    bins, x -> background_model_2(mode_parms_bm2, x),\n",
    "    label = \"Background Model 2\", lw=1.5, color=1\n",
    ")\n"
   ]
  },
  {
   "cell_type": "code",
   "execution_count": null,
   "metadata": {},
   "outputs": [],
   "source": [
    "data_bm2 = HMIData(samples_bm2)\n",
    "        \n",
    "hm_integrate!(data_bm2)"
   ]
  },
  {
   "cell_type": "markdown",
   "metadata": {},
   "source": [
    "## Comparison of background models: "
   ]
  },
  {
   "cell_type": "code",
   "execution_count": null,
   "metadata": {},
   "outputs": [],
   "source": [
    "tot_vol_bm1 = data_bm1.integralestimates[\"analytic result\"].final.estimate # Z \n",
    "tot_vol_bm2 = data_bm2.integralestimates[\"analytic result\"].final.estimate;"
   ]
  },
  {
   "cell_type": "code",
   "execution_count": null,
   "metadata": {},
   "outputs": [],
   "source": [
    "@show tot_vol_bm2/tot_vol_bm1;"
   ]
  },
  {
   "cell_type": "code",
   "execution_count": null,
   "metadata": {},
   "outputs": [],
   "source": [
    "plot(normalize(hist_background, mode=:density),  seriestype = :steps, lw=2.5, alpha=0.9, color=:black, label=\"Background Data\")\n",
    "plot!(xlabel = \"x\", ylabel=\"P(x)\", title=\"Background Analysis\")\n",
    "\n",
    "plot!(\n",
    "    bins, x -> background_model_1(mode_parms_bm1, x),\n",
    "    label = \"Background Model 1\", lw=1.5, color=2\n",
    ")\n",
    "\n",
    "plot!(\n",
    "    bins, x -> background_model_2(mode_parms_bm2, x),\n",
    "    label = \"Background Model 2\", lw=1.5, color=1\n",
    ")\n"
   ]
  },
  {
   "cell_type": "markdown",
   "metadata": {},
   "source": [
    "## Use histogram prior: "
   ]
  },
  {
   "cell_type": "code",
   "execution_count": null,
   "metadata": {},
   "outputs": [],
   "source": [
    "samples = hcat(samples_bm2.params...);\n",
    "\n",
    "A_1 = Histogram(-25.0:0.5:10.0)\n",
    "A_2 = Histogram(0.005:0.00005:0.0075)\n",
    "A_3 = Histogram(5:0.3:17)\n",
    "\n",
    "append!(A_1, samples[1,:])\n",
    "append!(A_2, samples[2,:])\n",
    "append!(A_3, samples[3,:])"
   ]
  },
  {
   "cell_type": "markdown",
   "metadata": {},
   "source": [
    "## Signal and background: "
   ]
  },
  {
   "cell_type": "code",
   "execution_count": null,
   "metadata": {},
   "outputs": [],
   "source": [
    "likelihood_signal = HistogramLikelihood(hist_signal, background_signal_model);\n",
    "\n",
    "prior_signal = NamedPrior(\n",
    "    A = [BAT.HistogramAsUvDistribution(A_1), BAT.HistogramAsUvDistribution(A_2), BAT.HistogramAsUvDistribution(A_3)],\n",
    "    D = [0.0..200], \n",
    "    x_0 = [13 .. 17], \n",
    "    G = [0.0 .. 5.0]\n",
    ");\n",
    "\n",
    "\n",
    "parshapes_signal = VarShapes(prior_signal)\n",
    "posterior_signal = PosteriorDensity(likelihood_signal, prior_signal);\n",
    "chainspec_signal = MCMCSpec(algorithm, posterior_signal, rngseed);"
   ]
  },
  {
   "cell_type": "code",
   "execution_count": null,
   "metadata": {},
   "outputs": [],
   "source": [
    "samples_signal, sampleids_signal, stats_signal, chains_signal = rand(\n",
    "    chainspec_signal,\n",
    "    nsamples,\n",
    "    nchains,\n",
    "    tuner_config = tuner_config,\n",
    "    convergence_test = convergence_test,\n",
    "    init_strategy = init_strategy,\n",
    "    burnin_strategy = burnin_strategy,\n",
    "    max_nsteps = max_nsteps,\n",
    "    max_time = Inf,\n",
    "    granularity = 1\n",
    ");"
   ]
  },
  {
   "cell_type": "code",
   "execution_count": null,
   "metadata": {},
   "outputs": [],
   "source": [
    "plot(samples_signal, params=[1,2,3])"
   ]
  },
  {
   "cell_type": "code",
   "execution_count": null,
   "metadata": {},
   "outputs": [],
   "source": [
    "plot(samples_signal, params=[4,5,6])"
   ]
  },
  {
   "cell_type": "code",
   "execution_count": null,
   "metadata": {},
   "outputs": [],
   "source": [
    "mode_parms_signal = parshapes_signal(stats_signal.mode)"
   ]
  },
  {
   "cell_type": "code",
   "execution_count": null,
   "metadata": {},
   "outputs": [],
   "source": [
    "plot(normalize(hist_signal, mode=:density), alpha=0.5, color=:red, label=\"Signal Data\")\n",
    "plot!(normalize(hist_background, mode=:density),  seriestype = :steps, lw=2.5, alpha=0.5, color=:black, label=\"Background Data\")\n",
    "plot!(xlabel = \"x\", ylabel=\"P(x)\")\n",
    "\n",
    "plot!(\n",
    "    bins, x -> background_model_2(mode_parms_bm2, x),\n",
    "    label = \"Background Model 2\", lw=2, color=1\n",
    ")\n",
    "\n",
    "plot!(\n",
    "    bins, x -> background_signal_model(mode_parms_signal, x),\n",
    "    label = \"Signal Model\", lw=2, color=6\n",
    ")\n",
    "\n"
   ]
  },
  {
   "cell_type": "code",
   "execution_count": null,
   "metadata": {},
   "outputs": [],
   "source": [
    "data_sig = HMIData(samples_signal)\n",
    "\n",
    "hm_integrate!(data_sig)"
   ]
  },
  {
   "cell_type": "markdown",
   "metadata": {},
   "source": [
    "## Signal vs. no signal: "
   ]
  },
  {
   "cell_type": "code",
   "execution_count": null,
   "metadata": {},
   "outputs": [],
   "source": [
    "likelihood_nosignal = HistogramLikelihood(hist_signal, background_model_2);\n",
    "\n",
    "prior_nosignal = NamedPrior(\n",
    "    A = [-10.0 .. 10.0, -1.0 .. 1.0, 0.0 .. 30.0],\n",
    ");\n",
    "\n",
    "\n",
    "parshapes_nosignal = VarShapes(prior_nosignal)\n",
    "posterior_nosignal = PosteriorDensity(likelihood_nosignal, prior_nosignal);\n",
    "chainspec_nosignal = MCMCSpec(algorithm, posterior_nosignal, rngseed);"
   ]
  },
  {
   "cell_type": "code",
   "execution_count": null,
   "metadata": {},
   "outputs": [],
   "source": [
    "samples_nosignal, sampleids_nosignal, stats_nosignal, chains_nosignal = rand(\n",
    "    chainspec_nosignal,\n",
    "    nsamples,\n",
    "    nchains,\n",
    "    tuner_config = tuner_config,\n",
    "    convergence_test = convergence_test,\n",
    "    init_strategy = init_strategy,\n",
    "    burnin_strategy = burnin_strategy,\n",
    "    max_nsteps = max_nsteps,\n",
    "    max_time = Inf,\n",
    "    granularity = 1\n",
    ");"
   ]
  },
  {
   "cell_type": "code",
   "execution_count": null,
   "metadata": {},
   "outputs": [],
   "source": [
    "mode_parms_nosignal = parshapes_nosignal(stats_nosignal.mode)"
   ]
  },
  {
   "cell_type": "code",
   "execution_count": null,
   "metadata": {},
   "outputs": [],
   "source": [
    "plot(normalize(hist_signal, mode=:density), alpha=0.5, color=:red, label=\"Signal Data\")\n",
    "plot!(xlabel = \"x\", ylabel=\"P(x)\")\n",
    "\n",
    "plot!(\n",
    "    bins, x -> background_model_2(mode_parms_nosignal, x),\n",
    "    label = \"No signal assumption\", lw=2, color=3\n",
    ")\n",
    "\n",
    "plot!(\n",
    "    bins, x -> background_signal_model(mode_parms_signal, x),\n",
    "    label = \"Signal assumption\", lw=2, color=6\n",
    ")\n",
    "\n"
   ]
  },
  {
   "cell_type": "code",
   "execution_count": null,
   "metadata": {},
   "outputs": [],
   "source": [
    "data_nosign = HMIData(samples_nosignal)\n",
    "        \n",
    "hm_integrate!(data_nosign)"
   ]
  },
  {
   "cell_type": "code",
   "execution_count": null,
   "metadata": {},
   "outputs": [],
   "source": [
    "post_signal = data_sig.integralestimates[\"analytic result\"].final.estimate\n",
    "post_nosign = data_nosign.integralestimates[\"analytic result\"].final.estimate;\n",
    "\n",
    "@show post_signal/post_nosign;"
   ]
  },
  {
   "cell_type": "code",
   "execution_count": null,
   "metadata": {},
   "outputs": [],
   "source": []
  }
 ],
 "metadata": {
  "kernelspec": {
   "display_name": "Julia 1.2.0-rc3",
   "language": "julia",
   "name": "julia-1.2"
  },
  "language_info": {
   "file_extension": ".jl",
   "mimetype": "application/julia",
   "name": "julia",
   "version": "1.2.0"
  }
 },
 "nbformat": 4,
 "nbformat_minor": 4
}
