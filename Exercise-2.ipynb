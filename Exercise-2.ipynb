{
 "cells": [
  {
   "cell_type": "markdown",
   "metadata": {},
   "source": [
    "# BAT.jl: Background + Signal Analysis "
   ]
  },
  {
   "cell_type": "code",
   "execution_count": null,
   "metadata": {},
   "outputs": [],
   "source": [
    "using Random, LinearAlgebra, Statistics, Distributions, StatsBase\n",
    "using EponymTuples\n",
    "using BAT, IntervalSets\n",
    "using ValueShapes\n",
    "using Plots\n",
    "pyplot()"
   ]
  },
  {
   "cell_type": "markdown",
   "metadata": {},
   "source": [
    "## Generate data:"
   ]
  },
  {
   "cell_type": "code",
   "execution_count": null,
   "metadata": {},
   "outputs": [],
   "source": [
    "bins=0:0.5:30\n",
    "N_background = 1500\n",
    "λ = 10\n",
    "\n",
    "data_background = rand(Truncated(Exponential(λ), 0, 30), N_background)\n",
    "hist_background = append!(Histogram(bins), data_background);"
   ]
  },
  {
   "cell_type": "code",
   "execution_count": null,
   "metadata": {},
   "outputs": [],
   "source": [
    "N_signal = 46\n",
    "N_s_background = 400\n",
    "μ_true = 15.0\n",
    "σ_true = 0.7\n",
    "\n",
    "data_signal =  vcat(\n",
    "    rand(Truncated(Exponential(λ), 0, 30), N_s_background),\n",
    "    rand(Normal( μ_true, σ_true), N_signal)\n",
    ")\n",
    "\n",
    "hist_signal = append!(Histogram(bins), data_signal);"
   ]
  },
  {
   "cell_type": "code",
   "execution_count": null,
   "metadata": {},
   "outputs": [],
   "source": [
    "plot(normalize(hist_signal, mode=:density), alpha=0.5, color=:red, label=\"Signal Data\")\n",
    "plot!(normalize(hist_background, mode=:density),  seriestype = :steps, lw=2.5, alpha=0.9, color=:black, label=\"Background Data\")\n",
    "plot!(xlabel = \"x\", ylabel=\"P(x)\", title=\"Data for Analysis\")\n"
   ]
  },
  {
   "cell_type": "markdown",
   "metadata": {},
   "source": [
    "## Model functions: "
   ]
  },
  {
   "cell_type": "code",
   "execution_count": null,
   "metadata": {},
   "outputs": [],
   "source": [
    "function background_model(@eponymargs(A, λ), x::Real)\n",
    "    A[1] + A[2]*exp(-λ[1]*x)\n",
    "end\n",
    "\n",
    "function background_signal_model(@eponymargs(A, λ, D, x_0, G), x::Real)\n",
    "    A[1] + A[2]*exp(-λ[1]*x) + (D[1]/(sqrt(2*pi*G[1]^2)))*exp(-((x - x_0[1])^2)/G[1]^2)  \n",
    "end"
   ]
  },
  {
   "cell_type": "markdown",
   "metadata": {},
   "source": [
    "## Likelihood function with Poisson noise: "
   ]
  },
  {
   "cell_type": "code",
   "execution_count": null,
   "metadata": {},
   "outputs": [],
   "source": [
    "struct HistogramLikelihood{H<:Histogram,F<:Function} <: AbstractDensity\n",
    "    histogram::H\n",
    "    fitfunc::F\n",
    "end"
   ]
  },
  {
   "cell_type": "code",
   "execution_count": null,
   "metadata": {},
   "outputs": [],
   "source": [
    "function BAT.density_logval(\n",
    "    likelihood::HistogramLikelihood,\n",
    "    params::Union{NamedTuple,AbstractVector{<:Real}}\n",
    ")\n",
    "    # Histogram counts for each bin as an array:\n",
    "    counts = likelihood.histogram.weights\n",
    "\n",
    "    # Histogram binning, has length (length(counts) + 1):\n",
    "    binning = likelihood.histogram.edges[1]\n",
    "    \n",
    "    log_likelihood::Float64 = 0.0\n",
    "    for i in eachindex(counts)\n",
    "        bin_left, bin_right = binning[i], binning[i+1]\n",
    "        bin_width = bin_right - bin_left\n",
    "        bin_center = (bin_right + bin_left) / 2\n",
    "        observed_counts = counts[i]\n",
    "        expected_counts = bin_width * likelihood.fitfunc(params, bin_center)\n",
    "        if expected_counts > 0 \n",
    "            log_likelihood += logpdf(Poisson(expected_counts), observed_counts)\n",
    "        else\n",
    "           log_likelihood += -Inf\n",
    "        end \n",
    "    end\n",
    "\n",
    "    return log_likelihood\n",
    "end"
   ]
  },
  {
   "cell_type": "code",
   "execution_count": null,
   "metadata": {},
   "outputs": [],
   "source": [
    "algorithm = MetropolisHastings(MvTDistProposalSpec(1.0))\n",
    "rngseed = BAT.Philox4xSeed()\n",
    "nsamples = 5*10^5\n",
    "max_nsteps = 5*10^5\n",
    "nchains = 8\n",
    "\n",
    "tuner_config = ProposalCovTunerConfig(\n",
    "    λ = 0.5,\n",
    "    α = 0.15..0.35,\n",
    "    β = 1.5,\n",
    "    c = 1e-4..1e2\n",
    ")\n",
    "\n",
    "convergence_test = BGConvergence(\n",
    "    threshold = 1.1,\n",
    "    corrected = false\n",
    ")\n",
    "\n",
    "init_strategy = MCMCInitStrategy(\n",
    "    ninit_tries_per_chain = 8..128,\n",
    "    max_nsamples_pretune = 25,\n",
    "    max_nsteps_pretune = 250,\n",
    "    max_time_pretune = Inf\n",
    ")\n",
    "\n",
    "burnin_strategy = MCMCBurninStrategy(\n",
    "    max_nsamples_per_cycle = 10000,\n",
    "    max_nsteps_per_cycle = 20000,\n",
    "    max_time_per_cycle = Inf,\n",
    "    max_ncycles = 100\n",
    ");\n",
    "\n",
    "ENV[\"JULIA_INFO\"] = \"BAT\""
   ]
  },
  {
   "cell_type": "markdown",
   "metadata": {},
   "source": [
    "## Background analysis: "
   ]
  },
  {
   "cell_type": "code",
   "execution_count": null,
   "metadata": {},
   "outputs": [],
   "source": [
    "likelihood_bm = HistogramLikelihood(hist_background, background_model)"
   ]
  },
  {
   "cell_type": "code",
   "execution_count": null,
   "metadata": {},
   "outputs": [],
   "source": [
    "prior_bm = NamedPrior(\n",
    "    A = [0.0 .. 1000.0, 0 .. 10000.0],\n",
    "    λ = [0.0 .. 20.0]\n",
    ");\n"
   ]
  },
  {
   "cell_type": "code",
   "execution_count": null,
   "metadata": {},
   "outputs": [],
   "source": [
    "parshapes_bm = VarShapes(prior_bm)\n",
    "posterior_bm = PosteriorDensity(likelihood_bm, prior_bm)\n",
    "chainspec_bm = MCMCSpec(algorithm, posterior_bm, rngseed);"
   ]
  },
  {
   "cell_type": "code",
   "execution_count": null,
   "metadata": {},
   "outputs": [],
   "source": [
    "samples_bm, sampleids_bm, stats_bm, chains_bm = rand(\n",
    "    chainspec_bm,\n",
    "    nsamples,\n",
    "    nchains,\n",
    "    tuner_config = tuner_config,\n",
    "    convergence_test = convergence_test,\n",
    "    init_strategy = init_strategy,\n",
    "    burnin_strategy = burnin_strategy,\n",
    "    max_nsteps = max_nsteps,\n",
    "    max_time = Inf,\n",
    "    granularity = 1\n",
    ");"
   ]
  },
  {
   "cell_type": "code",
   "execution_count": null,
   "metadata": {},
   "outputs": [],
   "source": [
    "println(\"Mode: $(stats_bm.mode)\")\n",
    "println(\"Mean: $(stats_bm.param_stats.mean)\")"
   ]
  },
  {
   "cell_type": "code",
   "execution_count": null,
   "metadata": {},
   "outputs": [],
   "source": [
    "mode_parms_bm = parshapes_bm(stats_bm.mode)"
   ]
  },
  {
   "cell_type": "code",
   "execution_count": null,
   "metadata": {},
   "outputs": [],
   "source": [
    "plot(samples_bm, params=[1,2,3])"
   ]
  },
  {
   "cell_type": "code",
   "execution_count": null,
   "metadata": {},
   "outputs": [],
   "source": [
    "plot(normalize(hist_background, mode=:density),  seriestype = :steps, lw=2.5, alpha=0.9, color=:black, label=\"Background Data\")\n",
    "plot!(xlabel = \"x\", ylabel=\"P(x)\", title=\"Background Analysis\")\n",
    "\n",
    "plot!(\n",
    "    bins, x -> background_model(mode_parms_bm, x),\n",
    "    label = \"Background Model\", lw=1.5, color=1\n",
    ")\n"
   ]
  },
  {
   "cell_type": "markdown",
   "metadata": {},
   "source": [
    "### Histogram as a prior: "
   ]
  },
  {
   "cell_type": "code",
   "execution_count": null,
   "metadata": {},
   "outputs": [],
   "source": [
    "samples = hcat(samples_bm.params...);\n",
    "\n",
    "λ_min, λ_max = minimum(samples[3,:]), maximum(samples[3,:])\n",
    "δ = (λ_max-λ_min)/150\n",
    "λ_hist = Histogram(λ_min:δ:λ_max)\n",
    "\n",
    "append!(λ_hist, samples[3,:])"
   ]
  },
  {
   "cell_type": "markdown",
   "metadata": {},
   "source": [
    "## Background + signal analysis: "
   ]
  },
  {
   "cell_type": "code",
   "execution_count": null,
   "metadata": {},
   "outputs": [],
   "source": [
    "likelihood_signal = HistogramLikelihood(hist_signal, background_signal_model);\n",
    "\n",
    "prior_signal = NamedPrior(\n",
    "    A = [0.0 .. 1000.0, 0 .. 10000.0],\n",
    "    λ = [BAT.HistogramAsUvDistribution(λ_hist)],\n",
    "    D = [0.0..1000], \n",
    "    x_0 = [0 .. 30], \n",
    "    G = [0.0 .. 5.0]\n",
    ");\n",
    "\n",
    "\n",
    "parshapes_signal = VarShapes(prior_signal)\n",
    "posterior_signal = PosteriorDensity(likelihood_signal, prior_signal);\n",
    "chainspec_signal = MCMCSpec(algorithm, posterior_signal, rngseed);"
   ]
  },
  {
   "cell_type": "code",
   "execution_count": null,
   "metadata": {},
   "outputs": [],
   "source": [
    "samples_signal, sampleids_signal, stats_signal, chains_signal = rand(\n",
    "    chainspec_signal,\n",
    "    nsamples,\n",
    "    nchains,\n",
    "    tuner_config = tuner_config,\n",
    "    convergence_test = convergence_test,\n",
    "    init_strategy = init_strategy,\n",
    "    burnin_strategy = burnin_strategy,\n",
    "    max_nsteps = max_nsteps,\n",
    "    max_time = Inf,\n",
    "    granularity = 1\n",
    ");"
   ]
  },
  {
   "cell_type": "code",
   "execution_count": null,
   "metadata": {},
   "outputs": [],
   "source": [
    "plot(samples_signal, params=[1,2,3])"
   ]
  },
  {
   "cell_type": "code",
   "execution_count": null,
   "metadata": {},
   "outputs": [],
   "source": [
    "plot(samples_signal, params=[4,5,6])"
   ]
  },
  {
   "cell_type": "code",
   "execution_count": null,
   "metadata": {},
   "outputs": [],
   "source": [
    "plot(samples_signal, 3)\n",
    "plot!(prior_signal, 3)\n",
    "plot!(ylabel=\"P(λ)\", xlabel=\"λ\", title=\"Knowledge Update\")"
   ]
  },
  {
   "cell_type": "code",
   "execution_count": null,
   "metadata": {},
   "outputs": [],
   "source": [
    "mode_parms_signal = parshapes_signal(stats_signal.mode)"
   ]
  },
  {
   "cell_type": "code",
   "execution_count": null,
   "metadata": {},
   "outputs": [],
   "source": [
    "plot(normalize(hist_signal, mode=:density), alpha=0.5, color=:red, label=\"Signal Data\")\n",
    "\n",
    "plot!(xlabel = \"x\", ylabel=\"P(x)\")\n",
    "\n",
    "plot!(\n",
    "    bins, x -> background_signal_model(mode_parms_signal, x),\n",
    "    label = \"Signal Model\", lw=2, color=6\n",
    ")\n",
    "\n"
   ]
  },
  {
   "cell_type": "code",
   "execution_count": null,
   "metadata": {},
   "outputs": [],
   "source": [
    "Z_signal = HMIData(samples_signal)\n",
    "\n",
    "hm_integrate!(Z_signal)"
   ]
  },
  {
   "cell_type": "markdown",
   "metadata": {},
   "source": [
    "## Signal vs. No signal: "
   ]
  },
  {
   "cell_type": "code",
   "execution_count": null,
   "metadata": {},
   "outputs": [],
   "source": [
    "likelihood_nosignal = HistogramLikelihood(hist_signal, background_model);\n",
    "\n",
    "prior_nosignal = NamedPrior(\n",
    "    A = [0.0 .. 1000.0, 0 .. 10000.0],\n",
    "    λ = [BAT.HistogramAsUvDistribution(λ_hist)],\n",
    ");\n",
    "\n",
    "\n",
    "parshapes_nosignal = VarShapes(prior_nosignal)\n",
    "posterior_nosignal = PosteriorDensity(likelihood_nosignal, prior_nosignal);\n",
    "chainspec_nosignal = MCMCSpec(algorithm, posterior_nosignal, rngseed);"
   ]
  },
  {
   "cell_type": "code",
   "execution_count": null,
   "metadata": {},
   "outputs": [],
   "source": [
    "samples_nosignal, sampleids_nosignal, stats_nosignal, chains_nosignal = rand(\n",
    "    chainspec_nosignal,\n",
    "    nsamples,\n",
    "    nchains,\n",
    "    tuner_config = tuner_config,\n",
    "    convergence_test = convergence_test,\n",
    "    init_strategy = init_strategy,\n",
    "    burnin_strategy = burnin_strategy,\n",
    "    max_nsteps = max_nsteps,\n",
    "    max_time = Inf,\n",
    "    granularity = 1\n",
    ");"
   ]
  },
  {
   "cell_type": "code",
   "execution_count": null,
   "metadata": {},
   "outputs": [],
   "source": [
    "mode_parms_nosignal = parshapes_nosignal(stats_nosignal.mode)"
   ]
  },
  {
   "cell_type": "code",
   "execution_count": null,
   "metadata": {},
   "outputs": [],
   "source": [
    "plot(normalize(hist_signal, mode=:density), alpha=0.5, color=:red, label=\"Signal Data\")\n",
    "plot!(xlabel = \"x\", ylabel=\"P(x)\")\n",
    "\n",
    "plot!(\n",
    "    bins, x -> background_model(mode_parms_nosignal, x),\n",
    "    label = \"No signal assumption\", lw=2, color=3\n",
    ")\n",
    "\n",
    "plot!(\n",
    "    bins, x -> background_signal_model(mode_parms_signal, x),\n",
    "    label = \"Signal assumption\", lw=2, color=6\n",
    ")\n",
    "\n"
   ]
  },
  {
   "cell_type": "code",
   "execution_count": null,
   "metadata": {},
   "outputs": [],
   "source": [
    "Z_nosignal = HMIData(samples_nosignal)\n",
    "        \n",
    "hm_integrate!(Z_nosignal)"
   ]
  },
  {
   "cell_type": "code",
   "execution_count": null,
   "metadata": {},
   "outputs": [],
   "source": [
    "Z_signal_v = Z_signal.integralestimates[\"analytic result\"].final.estimate\n",
    "Z_nosignal_v = Z_nosignal.integralestimates[\"analytic result\"].final.estimate;\n",
    "\n",
    "@show Z_signal_v/Z_nosignal_v;"
   ]
  },
  {
   "cell_type": "code",
   "execution_count": null,
   "metadata": {},
   "outputs": [],
   "source": []
  }
 ],
 "metadata": {
  "kernelspec": {
   "display_name": "Julia 1.3.0-rc4",
   "language": "julia",
   "name": "julia-1.3"
  },
  "language_info": {
   "file_extension": ".jl",
   "mimetype": "application/julia",
   "name": "julia",
   "version": "1.3.0"
  }
 },
 "nbformat": 4,
 "nbformat_minor": 4
}
