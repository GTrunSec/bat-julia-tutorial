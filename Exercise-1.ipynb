{
 "cells": [
  {
   "cell_type": "markdown",
   "metadata": {},
   "source": [
    "# BAT.jl Tutorial - Poisson Counting Experiment"
   ]
  },
  {
   "cell_type": "code",
   "execution_count": null,
   "metadata": {},
   "outputs": [],
   "source": [
    "using BAT\n",
    "using Distributions \n",
    "using IntervalSets\n",
    "using ShapesOfVariables\n",
    "using Plots\n",
    "using ArraysOfArrays\n",
    "using StatsBase "
   ]
  },
  {
   "cell_type": "markdown",
   "metadata": {},
   "source": [
    "## The Situation\n",
    "We want to measure a source in the presence of background. \n",
    "For example, this could be a radioactive element that is to be measured in a laboratory and is therefore background from natural radioactivity.\n"
   ]
  },
  {
   "cell_type": "markdown",
   "metadata": {},
   "source": [
    "## 1. Background only measurement\n",
    "A measurement without the signal source yields a number of $N_B=10$ counts.\n",
    "### Task: \n",
    "Perform a Bayesian analysis of this situation to estimate the parameter describing the backound count rate $\\lambda_b$."
   ]
  },
  {
   "cell_type": "code",
   "execution_count": null,
   "metadata": {},
   "outputs": [],
   "source": [
    "struct Background<:AbstractDensity\n",
    "    k::Float64 # observed counts\n",
    "end\n",
    "\n",
    "function BAT.density_logval(target::Background, params::Union{NamedTuple,AbstractVector{<:Real}})\n",
    "    return logpdf(Poisson(params[1][1]), target.k) # poisson log-likelihood\n",
    "end"
   ]
  },
  {
   "cell_type": "code",
   "execution_count": null,
   "metadata": {},
   "outputs": [],
   "source": [
    "# Number of observed background events\n",
    "kb = 10\n",
    "likelihood_B = Background(kb)\n",
    "\n",
    "prior_B = NamedPrior(\n",
    "    λb = 0..30\n",
    ")\n",
    "\n",
    "posterior_B = PosteriorDensity(likelihood_B, prior_B)"
   ]
  },
  {
   "cell_type": "code",
   "execution_count": null,
   "metadata": {},
   "outputs": [],
   "source": [
    "algorithm = MetropolisHastings()\n",
    "nchains = 8\n",
    "nsamples = 10^5"
   ]
  },
  {
   "cell_type": "code",
   "execution_count": null,
   "metadata": {},
   "outputs": [],
   "source": [
    "samples_B, sampleids_B, stats_B, chains_B = rand(MCMCSpec(algorithm, posterior_B), nsamples, nchains);"
   ]
  },
  {
   "cell_type": "code",
   "execution_count": null,
   "metadata": {},
   "outputs": [],
   "source": [
    "par_names=[\"\\$\\\\lambda_b\\$\"]\n",
    "#plot(posterior_B, samples_B, :λb, xlabel = par_names[1], ylabel = \"P($(par_names[1]))\")\n",
    "#plot!(prior_B, :λb)"
   ]
  },
  {
   "cell_type": "code",
   "execution_count": null,
   "metadata": {},
   "outputs": [],
   "source": [
    "print(stats_B)"
   ]
  },
  {
   "cell_type": "markdown",
   "metadata": {},
   "source": [
    "Questions:\n",
    "* What is the distribution of the posterior? What is the best estimator for the parameter?"
   ]
  },
  {
   "cell_type": "markdown",
   "metadata": {},
   "source": [
    "## 2. Further Background only measurement\n",
    "A second measurement without the signal source yields a number of $N_B=8$ counts.\n",
    "\n",
    "Use posterior of first backoground measurement as prior (analytic)"
   ]
  },
  {
   "cell_type": "code",
   "execution_count": null,
   "metadata": {},
   "outputs": [],
   "source": [
    "# replace by analytic poisson prior\n",
    "hist_10 = fit(Histogram, flatview(samples_B.params)[1, :], FrequencyWeights(samples_B.weight), nbins = 400, closed = :left)"
   ]
  },
  {
   "cell_type": "code",
   "execution_count": null,
   "metadata": {},
   "outputs": [],
   "source": [
    "# Number of observed background events\n",
    "kb2 = 8\n",
    "likelihood_B2 = Background(kb2)\n",
    "\n",
    "prior_B2 = NamedPrior(\n",
    "    λb = BAT.HistogramAsUvDistribution(hist_10) # replace by analytic poisson prior\n",
    ")\n",
    "\n",
    "prior_B2flat = NamedPrior(\n",
    "    λb = 0..30\n",
    ")\n",
    "\n",
    "posterior_B2 = PosteriorDensity(likelihood_B2, prior_B2)\n",
    "likelipost_B2 = PosteriorDensity(likelihood_B2, prior_B2flat)\n",
    ";"
   ]
  },
  {
   "cell_type": "code",
   "execution_count": null,
   "metadata": {},
   "outputs": [],
   "source": [
    "samples_B2, sampleids_B2, stats_B2, chains_B2 = rand(MCMCSpec(algorithm, posterior_B2), nsamples, nchains);\n",
    "likelipost_samples_B2, likelids_B2, likeli_stats_B2, like_chains_B2 = rand(MCMCSpec(algorithm, likelipost_B2), nsamples, nchains);"
   ]
  },
  {
   "cell_type": "code",
   "execution_count": null,
   "metadata": {},
   "outputs": [],
   "source": [
    "stats_B2.mode"
   ]
  },
  {
   "cell_type": "code",
   "execution_count": null,
   "metadata": {},
   "outputs": [],
   "source": [
    "plot(posterior_B2, samples_B2, :λb, xlabel = par_names[1], ylabel = \"P($(par_names[1]))\")\n",
    "#plot!(likelipost_B2, likelipost_samples_B2, :λb, seriestype=:stephist, linecolor=:blue,linewidth=1.5, localmode=false, label=\"likelihood\")\n",
    "#plot!(prior_B2, :λb, linewidth=1.5)"
   ]
  },
  {
   "cell_type": "markdown",
   "metadata": {},
   "source": [
    "## 3. Signal + Background\n",
    "Measurement with source: $N_{S+B}=12$"
   ]
  },
  {
   "cell_type": "code",
   "execution_count": null,
   "metadata": {},
   "outputs": [],
   "source": [
    "struct SignalAndBackground<:AbstractDensity\n",
    "    k::Float64 # observed counts\n",
    "end\n",
    "\n",
    "function BAT.density_logval(target::SignalAndBackground, params::Union{NamedTuple,AbstractVector{<:Real}})\n",
    "    return logpdf(Poisson(params[1][1] + params[2][1]), target.k)  # poisson log-likelihood\n",
    "end\n",
    "\n",
    "kSB = 12\n",
    "likelihood_SB = SignalAndBackground(kSB)"
   ]
  },
  {
   "cell_type": "code",
   "execution_count": null,
   "metadata": {},
   "outputs": [],
   "source": [
    "hist_B2 = fit(Histogram, flatview(samples_B2.params)[1, :], FrequencyWeights(samples_B2.weight), nbins = 400, closed = :left)\n",
    "B2 = BAT.HistogramAsUvDistribution(hist_B2);"
   ]
  },
  {
   "cell_type": "code",
   "execution_count": null,
   "metadata": {},
   "outputs": [],
   "source": [
    "prior_SB = NamedPrior(\n",
    "    λb = B2,\n",
    "    λs = 0..30\n",
    ")\n",
    "\n",
    "posterior_SB = PosteriorDensity(likelihood_SB, prior_SB);"
   ]
  },
  {
   "cell_type": "code",
   "execution_count": null,
   "metadata": {},
   "outputs": [],
   "source": [
    "samples_SB, sampleids_SB, stats_SB, chains_SB = rand(MCMCSpec(algorithm, posterior_SB), nsamples, nchains);"
   ]
  },
  {
   "cell_type": "code",
   "execution_count": null,
   "metadata": {},
   "outputs": [],
   "source": [
    "plot(samples_SB)"
   ]
  },
  {
   "cell_type": "markdown",
   "metadata": {},
   "source": [
    "## Error propagation"
   ]
  },
  {
   "cell_type": "markdown",
   "metadata": {},
   "source": [
    "We want to caluclate the cross section of the signal process using the formula\n",
    "# $σ = \\frac{λ_s}{ε \\cdot L}$\n",
    "The value of $L$ is set to $1.1$.\n",
    "\n",
    "### a) use $ϵ \\propto $ Normaldistribution\n",
    "The efficiency has been measured to be $ε = 0.1 \\pm 0.02$.\n",
    "Assume the error to follow a normal distribution and caluclate $σ$. "
   ]
  },
  {
   "cell_type": "code",
   "execution_count": null,
   "metadata": {},
   "outputs": [],
   "source": [
    "nsamples=800000\n",
    "ε = rand(Normal(0.1,0.02),nsamples)\n",
    "L = 1.1\n",
    "σS = (samples_SB.params.data[2,1:nsamples])./(ε*L)\n",
    "hist_σ = fit(Histogram, σS, FrequencyWeights(samples_SB.weight), nbins = 400, closed = :left)\n",
    "plot(hist_σ,xlim=(0,100))"
   ]
  },
  {
   "cell_type": "markdown",
   "metadata": {},
   "source": [
    "### b) Binomial analysis of calibration measurement with known source (neglect background because of high signal rate)\n",
    "assume: expected calibration source rate $N_\\text{expected} = 1000$ and measured by the detector $N_\\text{measured} = 123$"
   ]
  },
  {
   "cell_type": "code",
   "execution_count": null,
   "metadata": {},
   "outputs": [],
   "source": [
    "struct BinomialModel<:AbstractDensity\n",
    "    n::Float64 # n trials\n",
    "    k::Float64 # k succes\n",
    "end\n",
    "\n",
    "function BAT.density_logval(target::BinomialModel, params::Union{NamedTuple,AbstractVector{<:Real}})\n",
    "    return logpdf(Binomial(target.n, params[1][1]), target.k) # poisson log-likelihood\n",
    "end\n",
    "\n",
    "likelihood_binomial = BinomialModel(100, 13)"
   ]
  },
  {
   "cell_type": "code",
   "execution_count": null,
   "metadata": {},
   "outputs": [],
   "source": [
    "prior_binomial = NamedPrior(\n",
    "    p = 0..1\n",
    ")\n",
    "\n",
    "posterior_binomial = PosteriorDensity(likelihood_binomial, prior_binomial);"
   ]
  },
  {
   "cell_type": "code",
   "execution_count": null,
   "metadata": {},
   "outputs": [],
   "source": [
    "samples_binomial, sampleids_binomial, stats_binomial, chains_binomial = rand(MCMCSpec(algorithm, posterior_binomial), nsamples, nchains);"
   ]
  },
  {
   "cell_type": "code",
   "execution_count": null,
   "metadata": {},
   "outputs": [],
   "source": [
    "plot(samples_binomial, 1)"
   ]
  },
  {
   "cell_type": "code",
   "execution_count": null,
   "metadata": {},
   "outputs": [],
   "source": []
  },
  {
   "cell_type": "code",
   "execution_count": null,
   "metadata": {},
   "outputs": [],
   "source": []
  }
 ],
 "metadata": {
  "kernelspec": {
   "display_name": "Julia 1.3.0-rc4",
   "language": "julia",
   "name": "julia-1.3"
  },
  "language_info": {
   "file_extension": ".jl",
   "mimetype": "application/julia",
   "name": "julia",
   "version": "1.3.0"
  }
 },
 "nbformat": 4,
 "nbformat_minor": 4
}
