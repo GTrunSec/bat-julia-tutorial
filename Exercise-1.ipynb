{
 "cells": [
  {
   "cell_type": "markdown",
   "metadata": {},
   "source": [
    "# BAT.jl Tutorial - Poisson Counting Experiment"
   ]
  },
  {
   "cell_type": "code",
   "execution_count": null,
   "metadata": {},
   "outputs": [],
   "source": [
    "using BAT\n",
    "using Distributions \n",
    "using IntervalSets\n",
    "using ValueShapes\n",
    "using Plots\n",
    "using ArraysOfArrays\n",
    "using StatsBase \n",
    "pyplot();"
   ]
  },
  {
   "cell_type": "markdown",
   "metadata": {},
   "source": [
    "## The Situation\n",
    "We want to determine the properties of a radioactive source.\n",
    "Due to natural sources of radioactivity we need to take into account the contamination of this background to our signal. "
   ]
  },
  {
   "cell_type": "markdown",
   "metadata": {},
   "source": [
    "## 1. Background only measurement\n",
    "We start by using our detector without the source installed.\n",
    "This measurement yields a number of $N_B=10$ counts.\n",
    "Using this measurement we want to gain information about the event rate of the natural radioactive background.\n",
    "\n",
    "### Task: \n",
    "Perform a Bayesian analysis to estimate the event rate of the natural background $\\lambda_b$ using a Poisson model.\n",
    "Start by defining the model and its Likelihood using the *logpdf()* and *Poisson()* functions of the distrtibution package."
   ]
  },
  {
   "cell_type": "code",
   "execution_count": null,
   "metadata": {},
   "outputs": [],
   "source": [
    "struct Background<:AbstractDensity\n",
    "    k::Float64 # observed counts\n",
    "end\n",
    "\n",
    "function BAT.density_logval(target::Background, params::Union{NamedTuple,AbstractVector{<:Real}})\n",
    "    return logpdf(Poisson(params.λb), target.k) # poisson log-likelihood\n",
    "end"
   ]
  },
  {
   "cell_type": "markdown",
   "metadata": {},
   "source": [
    "Create an instance of the model and define the Prior with help of the *Named Prior()* function.\n",
    "\n",
    "Afterwards, use the model and the prior to define the *PosteriorDensity()*. "
   ]
  },
  {
   "cell_type": "code",
   "execution_count": null,
   "metadata": {},
   "outputs": [],
   "source": [
    "# Number of observed background events\n",
    "kb = 10\n",
    "likelihood_B = Background(kb)\n",
    "\n",
    "prior_B = NamedPrior(\n",
    "    λb = 0..30\n",
    ")\n",
    "\n",
    "posterior_B = PosteriorDensity(likelihood_B, prior_B);"
   ]
  },
  {
   "cell_type": "markdown",
   "metadata": {},
   "source": [
    "Define the settings for the sampling. Choose *MetropolisHstings()* as your algorithm and set the number of chains and samples."
   ]
  },
  {
   "cell_type": "code",
   "execution_count": null,
   "metadata": {},
   "outputs": [],
   "source": [
    "algorithm = MetropolisHastings()\n",
    "nchains = 8\n",
    "nsamples = 10^5;"
   ]
  },
  {
   "cell_type": "markdown",
   "metadata": {},
   "source": [
    "Start the sampling by using *rand()* on the *MCMCSpec()* object using the settings defined above."
   ]
  },
  {
   "cell_type": "code",
   "execution_count": null,
   "metadata": {},
   "outputs": [],
   "source": [
    "samples_B, sampleids_B, stats_B, chains_B = rand(MCMCSpec(algorithm, posterior_B), nsamples, nchains);"
   ]
  },
  {
   "cell_type": "markdown",
   "metadata": {},
   "source": [
    "At last look at the resulting disribution for the background rate using *plot()* and print out the reults of the sampling. "
   ]
  },
  {
   "cell_type": "code",
   "execution_count": null,
   "metadata": {
    "scrolled": false
   },
   "outputs": [],
   "source": [
    "plot(posterior_B, samples_B, :λb)\n",
    "plot!(prior_B, :λb, xlabel = \"\\$\\\\lambda_b\\$\", ylabel = \"\\$P(\\\\lambda_b)\\$\")"
   ]
  },
  {
   "cell_type": "code",
   "execution_count": null,
   "metadata": {},
   "outputs": [],
   "source": [
    "println(\"Mode: $(stats_B.mode)\")\n",
    "println(\"Mean: $(stats_B.param_stats.mean)\")\n",
    "#println(\"Covariance: $(stats_B.param_stats.cov)\")\n",
    "println(\"Standard Deviation: $([sqrt((stats_B.param_stats.cov)[i,i]) for i in 1:(Int(sqrt(length(stats_B.param_stats.cov))))])\")"
   ]
  },
  {
   "cell_type": "markdown",
   "metadata": {},
   "source": [
    "## 2. Further Background only measurement\n",
    "A second measurement of the natural background yields a number of $N_B=8$ counts.\n",
    "Therefore, we want to update our estimation for the background rate using this new knowledge and the first result.\n",
    "### Task:\n",
    "Perform an anylsis in a similar fashion to the first one with the posterior distribution of the background measurement as the prior of this analysis.\n",
    "This can be done by using a *StatsBase* histogram using *fit(Histogram,flatview(samples)[i,:],weights,nbins)*.\n",
    "\n",
    "Be mindful about carrying on the weights of the samples using the *FrequencyWeights()* function on the samples. "
   ]
  },
  {
   "cell_type": "code",
   "execution_count": null,
   "metadata": {},
   "outputs": [],
   "source": [
    "posterior_hist_B1 = fit(Histogram, flatview(samples_B.params)[1, :], FrequencyWeights(samples_B.weight), nbins = 400, closed = :left);"
   ]
  },
  {
   "cell_type": "markdown",
   "metadata": {},
   "source": [
    "The histogram can be used as prior by converting it into a univariate distribution using *BAT.HistogramAsUvDistribution()*.\n",
    "Otherwise proceed similarly to the first task."
   ]
  },
  {
   "cell_type": "code",
   "execution_count": null,
   "metadata": {},
   "outputs": [],
   "source": [
    "# Number of observed background events\n",
    "kb2 = 8\n",
    "likelihood_B2 = Background(kb2)\n",
    "\n",
    "prior_B2 = NamedPrior(\n",
    "    λb = BAT.HistogramAsUvDistribution(posterior_hist_B1) # replace by analytic poisson prior\n",
    ")\n",
    "\n",
    "prior_B2flat = NamedPrior(\n",
    "    λb = 0..30\n",
    ")\n",
    "\n",
    "posterior_B2 = PosteriorDensity(likelihood_B2, prior_B2)\n",
    "likelipost_B2 = PosteriorDensity(likelihood_B2, prior_B2flat)\n",
    ";"
   ]
  },
  {
   "cell_type": "code",
   "execution_count": null,
   "metadata": {},
   "outputs": [],
   "source": [
    "samples_B2, sampleids_B2, stats_B2, chains_B2 = rand(MCMCSpec(algorithm, posterior_B2), nsamples, nchains);\n",
    "likelipost_samples_B2, likelids_B2, likeli_stats_B2, like_chains_B2 = rand(MCMCSpec(algorithm, likelipost_B2), nsamples, nchains);"
   ]
  },
  {
   "cell_type": "code",
   "execution_count": null,
   "metadata": {},
   "outputs": [],
   "source": [
    "println(\"Mode: $(stats_B2.mode)\")\n",
    "println(\"Mean: $(stats_B2.param_stats.mean)\")\n",
    "#println(\"Covariance: $(stats_B2.param_stats.cov)\")\n",
    "println(\"Standard Deviation: $([sqrt((stats_B2.param_stats.cov)[i,i]) for i in 1:(Int(sqrt(length(stats_B2.param_stats.cov))))])\")"
   ]
  },
  {
   "cell_type": "markdown",
   "metadata": {},
   "source": [
    "Use the *plot!(prior)* function to visulaize both the posterior of the first analysis and the updated posterior. "
   ]
  },
  {
   "cell_type": "code",
   "execution_count": null,
   "metadata": {},
   "outputs": [],
   "source": [
    "plot(posterior_B2, samples_B2, :λb)\n",
    "#plot!(likelipost_B2, likelipost_samples_B2, :λb, seriestype=:stephist, linecolor=:blue,linewidth=1.5, localmode=false, label=\"likelihood\")\n",
    "plot!(prior_B2, :λb, linewidth=1.5, xlabel = \"\\$\\\\lambda_b\\$\", ylabel = \"\\$P(\\\\lambda_b)\\$\")"
   ]
  },
  {
   "cell_type": "markdown",
   "metadata": {},
   "source": [
    "## 3. Signal + Background\n",
    "Including the radioactive source to our experimental setup we repeat our measurement and obtain $N_{S+B}=12$ counts.\n",
    "With this measurement and our prior knowledge we are able to estimate the rate of the signal $\\lambda_s$.\n",
    "### Task\n",
    "Perform a third analysis using a poisson model with the combined singal + background rate.\n",
    "Use the known information about the background as a prior and choose a suitable prior for the signal."
   ]
  },
  {
   "cell_type": "code",
   "execution_count": null,
   "metadata": {},
   "outputs": [],
   "source": [
    "struct SignalAndBackground<:AbstractDensity\n",
    "    k::Float64 # observed counts\n",
    "end\n",
    "\n",
    "function BAT.density_logval(target::SignalAndBackground, params::Union{NamedTuple,AbstractVector{<:Real}})\n",
    "    return logpdf(Poisson(params.λb + params.λs), target.k)  # poisson log-likelihood\n",
    "end\n",
    "\n",
    "kSB = 12\n",
    "likelihood_SB = SignalAndBackground(kSB);"
   ]
  },
  {
   "cell_type": "code",
   "execution_count": null,
   "metadata": {},
   "outputs": [],
   "source": [
    "hist_B2 = fit(Histogram, flatview(samples_B2.params)[1, :], FrequencyWeights(samples_B2.weight), nbins = 400, closed = :left)\n",
    "B2 = BAT.HistogramAsUvDistribution(hist_B2);"
   ]
  },
  {
   "cell_type": "code",
   "execution_count": null,
   "metadata": {},
   "outputs": [],
   "source": [
    "prior_SB = NamedPrior(\n",
    "    λb = B2,\n",
    "    λs = 0..30\n",
    ")\n",
    "\n",
    "posterior_SB = PosteriorDensity(likelihood_SB, prior_SB);"
   ]
  },
  {
   "cell_type": "code",
   "execution_count": null,
   "metadata": {},
   "outputs": [],
   "source": [
    "samples_SB, sampleids_SB, stats_SB, chains_SB = rand(MCMCSpec(algorithm, posterior_SB), nsamples, nchains);"
   ]
  },
  {
   "cell_type": "code",
   "execution_count": null,
   "metadata": {},
   "outputs": [],
   "source": [
    "plot(samples_SB,param_labels=[\"\\$\\\\lambda_b\\$\",\"\\$\\\\lambda_s\\$\"])"
   ]
  },
  {
   "cell_type": "code",
   "execution_count": null,
   "metadata": {},
   "outputs": [],
   "source": [
    "println(\"Mode: $(stats_SB.mode)\")\n",
    "println(\"Mean: $(stats_SB.param_stats.mean)\")\n",
    "#println(\"Covariance: $(stats_SB.param_stats.cov)\")\n",
    "println(\"Standard Deviation: $([sqrt((stats_SB.param_stats.cov)[i,i]) for i in 1:(Int(sqrt(length(stats_SB.param_stats.cov))))])\")"
   ]
  },
  {
   "cell_type": "markdown",
   "metadata": {},
   "source": [
    "Questions:\n",
    "* (How) Does the distribtion of the background rate change?\n",
    "* How would you communicate your result of the signal rate (estimate value and uncertainty)? "
   ]
  },
  {
   "cell_type": "markdown",
   "metadata": {},
   "source": [
    "## 4. Error propagation"
   ]
  },
  {
   "cell_type": "markdown",
   "metadata": {},
   "source": [
    "Finally, we want to caluclate the cross section of the signal process.\n",
    "The rate of measured events in a detector of a couting experiment can be written as \n",
    "\n",
    "$\\frac{\\mathrm d N}{\\mathrm d t} = ε \\cdot σ \\cdot L$\n",
    "\n",
    "with the Luminosity $L$ and the efficiency of our detector $ε$. Using this the signal cross section\n",
    "### $σ_S = \\frac{λ_s}{ε \\cdot L}$\n",
    "can be derived. For this experiment the value of $L$ set to $1.1$.\n",
    "\n",
    "As a final result we should obtain either a measurement or an upper limit on the signal cross section.\n",
    "\n",
    "### Task a) Known efficiency with gaussian uncertainty\n",
    "The efficiency has been measured to be $ε = 0.1 \\pm 0.02$.\n",
    "Assume the error to follow a normal distribution.\n",
    "\n",
    "Calculate the signal cross section $σ_S$ using the equation above.\n",
    "\n",
    "Use the *Distributions* package and *rand()* to obain a sample for $\\epsilon$.\n",
    "In order to obtain unweigthed samples of $\\lambda_S$ the function *sample(array,weights,n,ordered=false,replace=false)* can be used.\n",
    "\n",
    "The function *broadcast()* might be useful for element wise operation when handeling the samples."
   ]
  },
  {
   "cell_type": "code",
   "execution_count": null,
   "metadata": {},
   "outputs": [],
   "source": [
    "ε    = rand(Normal(0.1,0.02),nsamples)\n",
    "λ_SB = sample(flatview(samples_SB.params)[2,:],FrequencyWeights(samples_SB.weight),nsamples,ordered=false,replace=false)\n",
    "L = 1.1\n",
    "σS = (λ_SB)./(ε*L);"
   ]
  },
  {
   "cell_type": "code",
   "execution_count": null,
   "metadata": {},
   "outputs": [],
   "source": [
    "hist_σ = fit(Histogram, σS,nbins=200,closed = :left)\n",
    "plot(hist_σ,1,seriestype=:smallest_intervals,xlim=(0,400),xlabel=\"\\$\\\\sigma_s\\$\",ylabel=\"\\$P(\\\\sigma_s)\\$\")"
   ]
  },
  {
   "cell_type": "markdown",
   "metadata": {},
   "source": [
    "Questions:\n",
    "* What is the 95% upper limit on the crosssection estimated from the distribution?"
   ]
  },
  {
   "cell_type": "markdown",
   "metadata": {},
   "source": [
    "### Task b) Binomial analysis of calibration measurement with known source \n",
    "The number of expected events is $N_\\text{expected} = 200$.\n",
    "The detector measures $N_\\text{measured} = 21$ events.\n",
    "Implement a binomial model using the *Binomial(n,p)* function of the Distributions package and extract the efficiency of the detector with BAT.\n",
    "Afterwards, repeat the calculations in a) using the posterior distrtibuion of the efficiency."
   ]
  },
  {
   "cell_type": "code",
   "execution_count": null,
   "metadata": {},
   "outputs": [],
   "source": [
    "struct BinomialModel<:AbstractDensity\n",
    "    n::Int64 # n trials\n",
    "    k::Int64 # k succes\n",
    "end\n",
    "\n",
    "function BAT.density_logval(target::BinomialModel, params::Union{NamedTuple,AbstractVector{<:Real}})\n",
    "    return logpdf(Binomial(target.n, params.p), target.k) # poisson log-likelihood\n",
    "end\n",
    "\n",
    "likelihood_binomial = BinomialModel(200, 21)"
   ]
  },
  {
   "cell_type": "code",
   "execution_count": null,
   "metadata": {},
   "outputs": [],
   "source": [
    "prior_binomial = NamedPrior(\n",
    "    p = 0..1\n",
    ")\n",
    "posterior_binomial = PosteriorDensity(likelihood_binomial, prior_binomial);"
   ]
  },
  {
   "cell_type": "code",
   "execution_count": null,
   "metadata": {},
   "outputs": [],
   "source": [
    "samples_binomial, sampleids_binomial, stats_binomial, chains_binomial = rand(MCMCSpec(algorithm, posterior_binomial), nsamples, nchains);"
   ]
  },
  {
   "cell_type": "code",
   "execution_count": null,
   "metadata": {},
   "outputs": [],
   "source": [
    "plot(samples_binomial, 1,xlabel=\"\\$\\\\epsilon\\$\",ylabel=\"\\$P(\\\\epsilon)\\$\")"
   ]
  },
  {
   "cell_type": "code",
   "execution_count": null,
   "metadata": {},
   "outputs": [],
   "source": [
    "println(\"Mode: $(stats_binomial.mode)\")\n",
    "println(\"Mean: $(stats_binomial.param_stats.mean)\")\n",
    "#println(\"Covariance: $(stats_binomial.param_stats.cov)\")\n",
    "println(\"Standard Deviation: $([sqrt((stats_binomial.param_stats.cov)[i,i]) for i in 1:(Int(sqrt(length(stats_binomial.param_stats.cov))))])\")"
   ]
  },
  {
   "cell_type": "code",
   "execution_count": null,
   "metadata": {},
   "outputs": [],
   "source": [
    "λS  = sample(samples_SB.params.data[2,:],FrequencyWeights(samples_SB.weight),60000,replace=false,ordered=false)\n",
    "ε   = sample(samples_binomial.params.data[1,:],FrequencyWeights(samples_binomial.weight),60000,replace=false,ordered=false)\n",
    "σS  = λS./(ε*L)\n",
    "hist_σ = fit(Histogram, σS,nbins=200,closed = :left)\n",
    "plot(hist_σ,1,seriestype=:smallest_intervals,xlabel=\"\\$\\\\sigma_s\\$\",ylabel=\"\\$P(\\\\sigma_s)\\$\")"
   ]
  },
  {
   "cell_type": "code",
   "execution_count": null,
   "metadata": {},
   "outputs": [],
   "source": [
    "plot(hist_σ,1,seriestype=:smallest_intervals,xlabel=\"\\$\\\\sigma_s\\$\",ylabel=\"\\$P(\\\\sigma_s)\\$\",intervals=[0.90,0.95,0.99]) #custom Intervals"
   ]
  },
  {
   "cell_type": "markdown",
   "metadata": {},
   "source": [
    "Questions:\n",
    "* What is the 95%(90%) upper limit on the cross section?"
   ]
  },
  {
   "cell_type": "code",
   "execution_count": null,
   "metadata": {},
   "outputs": [],
   "source": []
  },
  {
   "cell_type": "code",
   "execution_count": null,
   "metadata": {},
   "outputs": [],
   "source": []
  },
  {
   "cell_type": "code",
   "execution_count": null,
   "metadata": {},
   "outputs": [],
   "source": []
  },
  {
   "cell_type": "code",
   "execution_count": null,
   "metadata": {},
   "outputs": [],
   "source": []
  }
 ],
 "metadata": {
  "kernelspec": {
   "display_name": "Julia 1.3.0-rc4",
   "language": "julia",
   "name": "julia-1.3"
  },
  "language_info": {
   "file_extension": ".jl",
   "mimetype": "application/julia",
   "name": "julia",
   "version": "1.3.0"
  }
 },
 "nbformat": 4,
 "nbformat_minor": 2
}
